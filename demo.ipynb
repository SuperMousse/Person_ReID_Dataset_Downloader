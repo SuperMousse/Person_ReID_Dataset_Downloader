{
 "cells": [
  {
   "cell_type": "markdown",
   "metadata": {},
   "source": [
    "# A Simple Tool for Downloading Popular Person ReID Datasets \n",
    "### Currently 3 reid datasets and 2 attributes datasets are available\n",
    "* CUHK03\n",
    "* Market1501\n",
    "* DuketMTMC\n",
    "* Market1501Attribute\n",
    "* DukeMTMCAttribute"
   ]
  },
  {
   "cell_type": "markdown",
   "metadata": {},
   "source": [
    "#### Download Market1501 Dataset into the datasets folder"
   ]
  },
  {
   "cell_type": "code",
   "execution_count": 2,
   "metadata": {},
   "outputs": [
    {
     "name": "stdout",
     "output_type": "stream",
     "text": [
      "Downloading Market1501\n",
      "Extracting Market1501\n",
      "Done\n"
     ]
    }
   ],
   "source": [
    "from Person_ReID_Dataset_Downloader import Person_ReID_Dataset_Downloader\n",
    "Person_ReID_Dataset_Downloader('./datasets','Market1501')"
   ]
  },
  {
   "cell_type": "markdown",
   "metadata": {},
   "source": [
    "####  Download DukeMTMC Dataset into the datasets folder"
   ]
  },
  {
   "cell_type": "code",
   "execution_count": 2,
   "metadata": {},
   "outputs": [
    {
     "name": "stdout",
     "output_type": "stream",
     "text": [
      "Downloading DukeMTMC\n",
      "Extracting DukeMTMC\n",
      "Done\n"
     ]
    }
   ],
   "source": [
    "Person_ReID_Dataset_Downloader('./datasets','DukeMTMC')"
   ]
  },
  {
   "cell_type": "markdown",
   "metadata": {},
   "source": [
    "#### Download CUHK03 Dataset into the datasets folder (cuhk03.mat file will converted into jpeg images.)"
   ]
  },
  {
   "cell_type": "code",
   "execution_count": 2,
   "metadata": {},
   "outputs": [
    {
     "name": "stdout",
     "output_type": "stream",
     "text": [
      "Downloading CUHK03\n",
      "Extracting CUHK03\n",
      "Done\n",
      "Converting cuhk03.mat into images\n",
      "converting\n",
      "Done\n"
     ]
    }
   ],
   "source": [
    "Person_ReID_Dataset_Downloader('./datasets','CUHK03')"
   ]
  },
  {
   "cell_type": "markdown",
   "metadata": {},
   "source": [
    "#### Download Market1501 Attribute Dataset into the datasets folder"
   ]
  },
  {
   "cell_type": "code",
   "execution_count": 6,
   "metadata": {},
   "outputs": [
    {
     "name": "stdout",
     "output_type": "stream",
     "text": [
      "Downloading Market1501Attribute\n",
      "Extracting Market1501Attribute\n",
      "Done\n"
     ]
    }
   ],
   "source": [
    "Person_ReID_Dataset_Downloader('./datasets','Market1501Attribute')"
   ]
  },
  {
   "cell_type": "markdown",
   "metadata": {},
   "source": [
    "#### Download DukeMTMC Attribute Dataset into the datasets folder"
   ]
  },
  {
   "cell_type": "code",
   "execution_count": 7,
   "metadata": {},
   "outputs": [
    {
     "name": "stdout",
     "output_type": "stream",
     "text": [
      "Downloading DukeMTMCAttribute\n",
      "Extracting DukeMTMCAttribute\n",
      "Done\n"
     ]
    }
   ],
   "source": [
    "Person_ReID_Dataset_Downloader('./datasets','DukeMTMCAttribute')"
   ]
  }
 ],
 "metadata": {
  "kernelspec": {
   "display_name": "Python 3",
   "language": "python",
   "name": "python3"
  },
  "language_info": {
   "codemirror_mode": {
    "name": "ipython",
    "version": 3
   },
   "file_extension": ".py",
   "mimetype": "text/x-python",
   "name": "python",
   "nbconvert_exporter": "python",
   "pygments_lexer": "ipython3",
   "version": "3.6.5"
  }
 },
 "nbformat": 4,
 "nbformat_minor": 2
}
